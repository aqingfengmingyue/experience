{
 "cells": [
  {
   "cell_type": "code",
   "execution_count": 1,
   "metadata": {},
   "outputs": [],
   "source": [
    "import networkx as nx\n",
    "import numpy as np\n",
    "import pandas as pd\n",
    "import matplotlib.pyplot as plt\n",
    "import functools\n",
    "import math\n",
    "from scipy.stats import kendalltau"
   ]
  },
  {
   "cell_type": "code",
   "execution_count": 10,
   "metadata": {},
   "outputs": [],
   "source": [
    "import networkx as nx\n",
    "import random\n",
    "\n",
    "\n",
    "# SI模型的传播参数\n",
    "def SI_model(G, initial_infected, infection_probability, max_steps=20):\n",
    "\n",
    "    infected_count = [len(initial_infected)]  # 用来记录每个时间步感染节点的数量\n",
    "    infected_nodes = set(initial_infected)  # 初始感染者\n",
    "    susceptible_nodes = set(G.nodes) - infected_nodes  # 易感节点\n",
    "    \n",
    "    # 模拟传播过程\n",
    "    for t in range(max_steps):\n",
    "        newly_infected = set()\n",
    "        \n",
    "        # 遍历每个感染节点，并尝试传染其未感染的邻居\n",
    "        for node in infected_nodes:\n",
    "            uninfected_nodes = susceptible_nodes & set(G.neighbors(node))  # 获取邻居节点中的未感染节点\n",
    "            for uninfected in uninfected_nodes:\n",
    "                if random.random() < infection_probability:\n",
    "                    newly_infected.add(uninfected)\n",
    "            susceptible_nodes -= newly_infected  # 更新易感节点\n",
    "            \n",
    "        # 更新感染节点集\n",
    "        infected_nodes.update(newly_infected)\n",
    "        num_infected = len(G.nodes()) - len(susceptible_nodes)\n",
    "        infected_count.append(num_infected)  # 更新被感染节点数量\n",
    " \n",
    "    return infected_count"
   ]
  },
  {
   "cell_type": "code",
   "execution_count": 40,
   "metadata": {},
   "outputs": [],
   "source": [
    "@functools.lru_cache(maxsize=None)  # 没有缓存限制\n",
    "def all_kshell_values(graph: nx.Graph) -> dict['Node' : 'k_shell_value']:\n",
    "    \n",
    "    return nx.core_number(graph)\n",
    "    \n",
    "\n",
    "@functools.lru_cache(maxsize=None)  # 没有缓存限制\n",
    "def nodes_degree(graph) -> dict['Node' : 'degree']:\n",
    "    \n",
    "    return dict(graph.degree())\n",
    "    \n",
    "\n",
    "@functools.lru_cache(maxsize=None)  # 没有缓存限制\n",
    "def max_kshell(graph) -> int:\n",
    "    \n",
    "    return max(all_kshell_values(graph).values())\n",
    "    \n",
    "\n",
    "@functools.lru_cache(maxsize=None)  # 没有缓存限制\n",
    "def min_kshell(graph) -> int:\n",
    "    \n",
    "    return min(all_kshell_values(graph).values())\n",
    "    \n",
    "\n",
    "@functools.lru_cache(maxsize=None)  # 没有缓存限制\n",
    "def source_node_shortest_path(graph, source) -> dict['Node' : 'distance']:\n",
    "    '''\n",
    "    计算源节点节点source到其他节点的最短路径，包括源节点本身\n",
    "    返回值为dict[source node to target node, distance]\n",
    "    '''\n",
    "    \n",
    "    return nx.shortest_path_length(graph, source)\n",
    "    \n",
    "\n",
    "def clear_all_cache():\n",
    "    all_kshell_values.cache_clear()\n",
    "    nodes_degree.cache_clear()\n",
    "    max_kshell.cache_clear()\n",
    "    min_kshell.cache_clear()\n",
    "    source_node_shortest_path.cache_clear()\n",
    "    normalized_comm_network_matrix.cache_clear()"
   ]
  },
  {
   "cell_type": "code",
   "execution_count": 26,
   "metadata": {},
   "outputs": [],
   "source": [
    "def gravity_centrality(graph, node) -> float:\n",
    "    '''\n",
    "    采用k_shell值作为质量，最短路径作为距离，截断半径根据网络特性自己设置，一般为网络直径的一半\n",
    "    计算节点node的重力中心性。\n",
    "\n",
    "    graph->所要计算的图\n",
    "    node->所要计算重力中心性的节点\n",
    "    所有节点的k_shell值，可用nx.core_number(graph)函数计算。返回值为dic{node : value}\n",
    "    influence_radius->节点node的影响半径.\n",
    "    '''\n",
    "    \n",
    "    influence_radius = 2\n",
    "    gravity_centrality = 0\n",
    "    neighbors = set()\n",
    "    path_lengths = source_node_shortest_path(graph, node)  # 存储源节点node到其它节点的最短距离\n",
    "    k_shell = all_kshell_values(graph)\n",
    "    \n",
    "    for neighbor in graph.neighbors(node):     \n",
    "        if path_lengths[neighbor] <= influence_radius:\n",
    "            neighbors.add(neighbor)\n",
    "            \n",
    "    for neighbor in neighbors:\n",
    "        num = k_shell[node] * k_shell[neighbor]\n",
    "        distance = path_lengths[neighbor]\n",
    "        gravity_centrality += num / (distance ** 2)\n",
    "\n",
    "    return gravity_centrality\n",
    "\n",
    "def all_gravity_centrality(G):\n",
    "    '''\n",
    "    循环调用gravity_centrality计算所有节点重力中心性\n",
    "    GC返回值为dic{nod : value of gravity centrality}\n",
    "    '''\n",
    "    \n",
    "    GC = {node : 0 for node in G.nodes()}\n",
    "    for node in G.nodes():\n",
    "        GC[node] = gravity_centrality(G, node)\n",
    "        source_node_shortest_path.cache_clear()  # 清空已处理过节点的最短路径缓存\n",
    "\n",
    "    clear_all_cache()\n",
    "\n",
    "    return GC"
   ]
  },
  {
   "cell_type": "code",
   "execution_count": 43,
   "metadata": {},
   "outputs": [],
   "source": [
    "# 创建一个随机图\n",
    "n_nodes = 200  # 指定节点数\n",
    "p = 0.05  # 每条边存在的概率\n",
    "G = nx.gnp_random_graph(n_nodes, p)"
   ]
  },
  {
   "cell_type": "code",
   "execution_count": 29,
   "metadata": {},
   "outputs": [],
   "source": [
    "\n",
    "# 计算各中心性值\n",
    "DC = nx.degree_centrality(G)\n",
    "CC = nx.closeness_centrality(G)\n",
    "BC = nx.betweenness_centrality(G)\n",
    "GC = all_gravity_centrality(G)\n",
    "\n",
    "# 获取中心性排序\n",
    "sorted_DC = dict(sorted(DC.items(), key=lambda item: item[1], reverse=True))\n",
    "sorted_CC = dict(sorted(CC.items(), key=lambda item: item[1], reverse=True))\n",
    "sorted_BC = dict(sorted(BC.items(), key=lambda item: item[1], reverse=True))\n",
    "sorted_GC = dict(sorted(GC.items(), key=lambda item: item[1], reverse=True))\n",
    "\n",
    "# 选择前20名节点\n",
    "DC_top_20 = list(sorted_DC.keys())[:20]\n",
    "CC_top_20 = list(sorted_CC.keys())[:20]\n",
    "BC_top_20 = list(sorted_BC.keys())[:20]\n",
    "GC_top_20 = list(sorted_GC.keys())[:20]\n"
   ]
  },
  {
   "cell_type": "code",
   "execution_count": 34,
   "metadata": {},
   "outputs": [
    {
     "name": "stdout",
     "output_type": "stream",
     "text": [
      "[[ 63  63  63  63]\n",
      " [168 168 168 168]\n",
      " [ 19  19 167  19]\n",
      " [ 78 118 172  78]\n",
      " [ 81 155  81  81]\n",
      " [167  81 169 167]\n",
      " [169 167  19 169]\n",
      " [118  78 155 164]\n",
      " [155  20 118 118]\n",
      " [164 172 187 155]\n",
      " [172 187  78 172]\n",
      " [ 24  52 162  24]\n",
      " [162 169 164 162]\n",
      " [ 20 142  24  20]\n",
      " [ 51  56 149  76]\n",
      " [ 76  76 142  51]\n",
      " [142 162  51 146]\n",
      " [146 164 102 142]\n",
      " [149 102 147  52]\n",
      " [187   2 146 187]]\n"
     ]
    }
   ],
   "source": [
    "# 获取前20名节点np.array数组\n",
    "DC_top_20_array = np.array(DC_top_20)\n",
    "CC_top_20_array = np.array(CC_top_20)\n",
    "BC_top_20_array = np.array(BC_top_20)\n",
    "GC_top_20_array = np.array(GC_top_20)\n",
    "sorted_matrix = np.column_stack((DC_top_20_array, CC_top_20_array, BC_top_20_array, GC_top_20_array))\n",
    "print(sorted_matrix)"
   ]
  },
  {
   "cell_type": "code",
   "execution_count": 33,
   "metadata": {},
   "outputs": [
    {
     "data": {
      "image/png": "[encoded data removed]",
      "text/plain": [
       "<Figure size 1000x600 with 1 Axes>"
      ]
     },
     "metadata": {},
     "output_type": "display_data"
    }
   ],
   "source": [
    "# SI模型模拟\n",
    "infection_probability = 0.07\n",
    "infected_DC = SI_model(G, DC_top_20, infection_probability)\n",
    "infected_CC = SI_model(G, CC_top_20, infection_probability)\n",
    "infected_BC = SI_model(G, BC_top_20, infection_probability)\n",
    "infected_GC = SI_model(G, GC_top_20, infection_probability)\n",
    "\n",
    "\n",
    "# 画出传播过程中的感染者数量变化\n",
    "plt.figure(figsize=(10, 6))\n",
    "plt.plot(infected_DC, label='Degree Centrality (DC)', color='blue')\n",
    "plt.plot(infected_CC, label='Closeness Centrality (CC)', color='green')\n",
    "plt.plot(infected_BC, label='Betweenness Centrality (BC)', color='red')\n",
    "plt.plot(infected_GC, label='Gravity Centrality (GC)', color='pink')\n",
    "# 设置横坐标为0到20，步长为1\n",
    "plt.xticks(range(21))\n",
    "\n",
    "plt.xlabel('Time Steps')\n",
    "plt.ylabel('Number of Infected Nodes')\n",
    "plt.title('SI Model - Infection Spread')\n",
    "plt.legend(loc='upper left')\n",
    "plt.grid(True)\n",
    "plt.show()"
   ]
  },
  {
   "cell_type": "code",
   "execution_count": 4,
   "metadata": {},
   "outputs": [],
   "source": [
    "def grav_coeff(graph: nx.Graph, i: 'Node', j: 'Node') -> float:\n",
    "    '''\n",
    "    计算节点i和节点j之间的重力系数\n",
    "    节点i为所要计算的节点重力中心性\n",
    "    '''\n",
    "    k_shell = all_kshell_values(graph)\n",
    "    denom = max_kshell(graph) - min_kshell(graph)\n",
    "    denom = 1 if denom == 0 else denom\n",
    "\n",
    "    # 它可以接受两个参数，第一个是底数（base），第二个是指数（exponent）\n",
    "    g = np.power(np.e, (k_shell[i] - k_shell[j]) / denom)\n",
    "    return g"
   ]
  },
  {
   "cell_type": "code",
   "execution_count": 5,
   "metadata": {},
   "outputs": [],
   "source": [
    "def gravitational_force(graph, i, j) -> float:\n",
    "    '''\n",
    "    改进的万有引力公式，采用度值作为质量进行计算\n",
    "    并为每个节点对设置引力系数g，节点对的g由函数\n",
    "    grav_coeff()计算。\n",
    "\n",
    "    source_node_shortest_path|dic{node : distance}存储源节点source到其他节点的最短路径长度\n",
    "    包括节点i到节点i本身的路径长度\n",
    "    '''\n",
    "    target_degree = nodes_degree(graph)\n",
    "    degree_prod = target_degree[i] * target_degree[j]\n",
    "    path_length = source_node_shortest_path(graph, i)\n",
    "\n",
    "    # 节点i到节点j的最短距离\n",
    "    distance = path_length[j]\n",
    "    distance = 1 if distance == 0 else distance\n",
    "\n",
    "    g = grav_coeff(graph, i, j)\n",
    "\n",
    "    return g * degree_prod / np.square(distance)"
   ]
  },
  {
   "cell_type": "code",
   "execution_count": 29,
   "metadata": {},
   "outputs": [],
   "source": [
    "def balance_node(graph: nx.Graph, i: 'Node', delta: float) -> list:\n",
    "    '''\n",
    "    计算节点i不同delta对应的平衡节点s，s可能由多个值因此用列表存储\n",
    "    平衡节点是说达到力平衡的节点。\n",
    "    \n",
    "    通过平衡节点计算节点i的影响半径\n",
    "    '''\n",
    "    \n",
    "    k_shell = all_kshell_values(graph)  # 获取所有节点的k_shell值\n",
    "    denom = max_kshell(graph) - min_kshell(graph)\n",
    "    denom = 1 if denom == 0 else denom\n",
    "    delta = delta ** 2\n",
    "\n",
    "\n",
    "    exponent = np.log(delta)  #计算delta所对应的指数\n",
    "    s_k_shell = int(exponent * denom + k_shell[i])\n",
    "    balence_nodes = []\n",
    "    for node, k_value in k_shell.items():\n",
    "        if k_value == s_k_shell:\n",
    "            balence_nodes.append(node)\n",
    "\n",
    "    return balence_nodes"
   ]
  },
  {
   "cell_type": "code",
   "execution_count": 39,
   "metadata": {},
   "outputs": [],
   "source": [
    "def radius_of_influence(graph: nx.Graph, i: 'Node', delta: float) -> float | int:\n",
    "    balence_nodes_s = balance_node(graph, i, delta)  # 计算delta下节点i的平衡节点\n",
    "    s_distance = {}  # 键为平衡节点s，值为节点i到s的最短距离，如果没有路径则距离为0\n",
    "    s_degree = {}  # dict{balence node s : degree of s node}\n",
    "\n",
    "    # 计算源节点i到其他节点的最短路径\n",
    "    i_shortest_path = source_node_shortest_path(graph, i)\n",
    "    node_degree = nodes_degree(graph)\n",
    "\n",
    "    for balence_node in balence_nodes_s:\n",
    "        s_degree[balence_node] = node_degree[balence_node]\n",
    "        if balence_node in i_shortest_path.keys():\n",
    "            s_distance[balence_node] = i_shortest_path[balence_node]\n",
    "            \n",
    "    num_balence_node = len(balence_nodes_s)  # 存储平衡节点的数量\n",
    "    if num_balence_node == 0:\n",
    "        num_balence_node = 1\n",
    "        \n",
    "    s_average_degree = sum(s_degree.values()) / num_balence_node  # 计算平衡节点集的平均度\n",
    "    s_average_distance = sum(s_distance.values()) / num_balence_node  # 计算节点i到平衡节点集的平均距离\n",
    "    if node_degree[i] == 0:\n",
    "        degree_quotient = np.abs(s_average_degree)  # abs开根号\n",
    "    else:\n",
    "        degree_quotient = np.abs(s_average_degree / node_degree[i])  # abs开根号\n",
    "\n",
    "    # 计算节点i的截断半径\n",
    "    i_radius = s_average_distance / (1 + (np.sqrt(degree_quotient) * delta))\n",
    "    if i_radius == 0:\n",
    "        i_radius = 1\n",
    "\n",
    "    return i_radius\n"
   ]
  },
  {
   "cell_type": "code",
   "execution_count": 48,
   "metadata": {},
   "outputs": [
    {
     "name": "stdout",
     "output_type": "stream",
     "text": [
      "{0: 1.7667073853152262, 1: 1.6043221452637098, 2: 1.8920998001844527, 3: 1.6757190582305446, 4: 1.6668498239720178, 5: 1.7267316464601141, 6: 1.8108750699481067, 7: 1.8488980527016066, 8: 2.0209745628529836, 9: 1, 10: 1.624601960612383, 11: 2.4696276922520344, 12: 1.7933210450711254, 13: 1.9348990223135827, 14: 1.6835633552986111, 15: 1.693687776840512, 16: 1.9160937134592437, 17: 1.8793487987374884, 18: 1.8550427545809876, 19: 1.4497459896284517, 20: 1.8877063632327638, 21: 1.7569498144569917, 22: 1.935643173532014, 23: 2.297005522465285, 24: 1.8994048111061255, 25: 1.7225397006823453, 26: 1.9857413934291313, 27: 1.769899937621617, 28: 1.8108750699481067, 29: 1.8470498049419657, 30: 1.2773958089728292, 31: 1.693687776840512, 32: 1.8694580420923346, 33: 1.8562365199446227, 34: 1.6668498239720178, 35: 1.81306822878312, 36: 1.7569498144569917, 37: 1.8793487987374884, 38: 1.7933210450711254, 39: 1.6668498239720178, 40: 1.836344920196039, 41: 1.7222668098480596, 42: 1.604550408747849, 43: 1.650159920842673, 44: 1.6783720160494648, 45: 1.5435173076575215, 46: 1, 47: 1.8405137041519444, 48: 1.6291713066130293, 49: 1.8694580420923346, 50: 1.8153623130830896, 51: 1.8153623130830896, 52: 1.7418354720005993, 53: 1.5972267729756056, 54: 1.8019998096994787, 55: 1.8108750699481067, 56: 1.935643173532014, 57: 1.7933210450711254, 58: 1.9530543640499065, 59: 1.5584843696847466, 60: 1, 61: 1.7880200538750903, 62: 1.7679491924311228, 63: 1.8019998096994787, 64: 1.8550427545809876, 65: 1.769899937621617, 66: 1.6043221452637098, 67: 1.9042280049486586, 68: 1.81306822878312, 69: 1.8694580420923346, 70: 1.7418354720005993, 71: 1.8522207691890258, 72: 1.8488980527016066, 73: 1.863514013643616, 74: 1.7418354720005993, 75: 1.8068776424129338, 76: 1.7418354720005993, 77: 1.8694580420923346, 78: 1.711899819214505, 79: 1.680816411546915, 80: 1.695997696421636, 81: 1.8619100647006048, 82: 1, 83: 1.935643173532014, 84: 1.8694580420923346, 85: 1.8153623130830896, 86: 1.650159920842673, 87: 1.8522207691890258, 88: 1.8550427545809876, 89: 2.235442665702451, 90: 1, 91: 1.81306822878312, 92: 1.6043221452637098, 93: 1.6403950641371086, 94: 1.643045454912245, 95: 2.16092423072053, 96: 1.81306822878312, 97: 1.7880200538750903, 98: 1.5435173076575215, 99: 1.7225397006823453, 100: 1.8108750699481067, 101: 1.650159920842673, 102: 1.8992104392138682, 103: 1.8019998096994787, 104: 1.8065752867461635, 105: 1.7461283859903063, 106: 1.8108750699481067, 107: 1.565217391304348, 108: 1.6291713066130293, 109: 1.7225397006823453, 110: 1.6291713066130293, 111: 1.711899819214505, 112: 1.711899819214505, 113: 1.6668498239720178, 114: 1.8694580420923346, 115: 1.8550427545809876, 116: 1.8068776424129338, 117: 1.6783720160494648, 118: 1.6723843712186297, 119: 1.7267316464601141, 120: 2.1715728752538097, 121: 1.8920998001844527, 122: 1.8694580420923346, 123: 1.7569498144569917, 124: 1.695997696421636, 125: 1.7228368218355878, 126: 1.6835633552986111, 127: 1.7222668098480596, 128: 1.9371497954269399, 129: 1.769899937621617, 130: 1.4294698127496714, 131: 1.8405137041519444, 132: 1.5108901906525998, 133: 1.6112698503411729, 134: 1.7225397006823453, 135: 1.884669786516987, 136: 1.8405137041519444, 137: 1.8068776424129338, 138: 1.8157316030373694, 139: 2.0566208718777648, 140: 1.7667073853152262, 141: 1.7201667818248763, 142: 1.7648572321242608, 143: 1.7679491924311228, 144: 1.769899937621617, 145: 1.836344920196039, 146: 2.16092423072053, 147: 1.939323931905229, 148: 1.8019998096994787, 149: 1.8592736669953842, 150: 1.9160937134592437, 151: 1.8470498049419657, 152: 1.8522207691890258, 153: 1.8019998096994787, 154: 1.6403950641371086, 155: 1.6723843712186297, 156: 1.7418354720005993, 157: 2.0566208718777648, 158: 1.5458689621508228, 159: 1.5967755909695693, 160: 1.7569498144569917, 161: 1.7569498144569917, 162: 1.7222668098480596, 163: 1.7688145614655748, 164: 1.8019998096994787, 165: 1.8694580420923346, 166: 1.7228368218355878, 167: 1.7648572321242608, 168: 1.8550427545809876, 169: 1.8260869565217392, 170: 1.7880200538750903, 171: 1.621799828729531, 172: 1.81306822878312, 173: 1.8909184629902795, 174: 1.9251865743164518, 175: 1.7418354720005993, 176: 1, 177: 1.7418354720005993, 178: 1.5972267729756056, 179: 1.7225397006823453, 180: 1.6757190582305446, 181: 2.16092423072053, 182: 1, 183: 1.7933210450711254, 184: 1.8619100647006048, 185: 1.8108750699481067, 186: 1.935643173532014, 187: 1.8522207691890258, 188: 1.8877063632327638, 189: 1.7880200538750903, 190: 1.5972267729756056, 191: 1.621799828729531, 192: 2.086956521739131, 193: 1.5573577496670301, 194: 1.7222668098480596, 195: 1.7222668098480596, 196: 1.7876732475795623, 197: 1.8550427545809876, 198: 1.8619100647006048, 199: 1.7418354720005993}\n"
     ]
    }
   ],
   "source": [
    "radius = {}\n",
    "for node in G.nodes():\n",
    "    radius[node] = radius_of_influence(G, node, 0.8)\n",
    "print(radius)"
   ]
  },
  {
   "cell_type": "code",
   "execution_count": 45,
   "metadata": {},
   "outputs": [],
   "source": [
    "def diameter_network(graph: nx.Graph) -> int:\n",
    "    if nx.is_connected(graph):\n",
    "        \n",
    "        # 计算并打印网络的直径\n",
    "        diameter = nx.diameter(graph)\n",
    "    else:\n",
    "        \n",
    "        # 获取最大连通子图\n",
    "        largest_component = max(nx.connected_components(graph), key=len)  # 最大连通子图的节点集合\n",
    "        subgraph = graph.subgraph(largest_component)\n",
    "        # 计算最大连通子图的直径\n",
    "        diameter = nx.diameter(subgraph)\n",
    "    \n",
    "    return diameter"
   ]
  },
  {
   "cell_type": "code",
   "execution_count": 47,
   "metadata": {},
   "outputs": [
    {
     "name": "stdout",
     "output_type": "stream",
     "text": [
      "4\n"
     ]
    }
   ],
   "source": [
    "a = diameter_network(G)\n",
    "print(a)"
   ]
  },
  {
   "cell_type": "code",
   "execution_count": 35,
   "metadata": {},
   "outputs": [],
   "source": [
    "def comm_network_matrix(graph: nx.Graph) -> list[list[float]]:\n",
    "    '''\n",
    "    计算通信概率矩阵X\n",
    "    '''\n",
    "\n",
    "    A = nx.to_numpy_array(graph)  # 图graph的邻接矩阵\n",
    "\n",
    "    diam = diameter_network(graph)  # 图的网络直径\n",
    "    \n",
    "    # 初始化通信概率矩阵 X\n",
    "    X = np.zeros_like(A, dtype=np.float32)\n",
    "    for n in range(1, diam + 1):\n",
    "        A_n_power = np.linalg.matrix_power(A, n)  # 计算 A 的 n 次方\n",
    "        \n",
    "        X += (1 / math.factorial(n)) * A_n_power\n",
    "\n",
    "    return np.real(X)"
   ]
  },
  {
   "cell_type": "code",
   "execution_count": 36,
   "metadata": {},
   "outputs": [],
   "source": [
    "@functools.lru_cache(maxsize=None) \n",
    "def normalized_comm_network_matrix(graph: nx.Graph) -> list[list[float]]:\n",
    "    X = comm_network_matrix(graph)\n",
    "\n",
    "    X_max = np.max(X)\n",
    "    X_min = np.min(X)\n",
    "\n",
    "    '''\n",
    "    (X - X_min),X_min是一个具体的数字，该操作会自动执行numpy的广播机制.\n",
    "    将不同维度的两个数据进行数学运算时，将较小维度数据广播为与另一个数据维度大小相同的数据。\n",
    "    其中X_min中的每个元素都是X_min\n",
    "    '''\n",
    "\n",
    "    return (X - X_min) / (X_max - X_min)"
   ]
  },
  {
   "cell_type": "code",
   "execution_count": 24,
   "metadata": {},
   "outputs": [],
   "source": [
    "@functools.lru_cache(maxsize=None)\n",
    "def node_to_index(graph: nx.Graph) -> dict[int, int]:\n",
    "    return {node: i for i, node in enumerate(graph.nodes())}"
   ]
  },
  {
   "cell_type": "code",
   "execution_count": 34,
   "metadata": {},
   "outputs": [],
   "source": [
    "def neighbors_node_underneath_radius(graph: nx.Graph, i: 'node', radius: int) -> list:\n",
    "    neighbors = []\n",
    "\n",
    "    # 存储源节点i到其它节点的最短距离,除到源节点距离为0之外，无路径的节点对不会返回键值对。如{2: 0, 7: 1}\n",
    "    i_shortest_path = source_node_shortest_path(graph, i)\n",
    "    \n",
    "    for node in i_shortest_path.keys():     \n",
    "        if (node != i) & (i_shortest_path[node] <= radius):\n",
    "            neighbors.append(node)\n",
    "\n",
    "    # 孤立节点的neighbors为空列表\n",
    "    return neighbors"
   ]
  },
  {
   "cell_type": "code",
   "execution_count": 49,
   "metadata": {},
   "outputs": [],
   "source": [
    "def cagm_float(graph: nx.Graph, i: 'Node', delta: float) -> float:\n",
    "    # delta为浮点数时计算节点i的cagm值\n",
    "    \n",
    "    radius = radius_of_influence(graph, i, delta)\n",
    "    integer_radius = int(np.floor(radius))\n",
    "    fractional_radius = radius - integer_radius\n",
    "    cagm_value_floor = 1\n",
    "    cagm_value_ceil = 1\n",
    "    node_to_idx = node_to_index(graph)\n",
    "\n",
    "    # Sum influence for neighbors within integer radius\n",
    "    i_shortest_path = source_node_shortest_path(graph, i)\n",
    "    # 获取距离小于integer_radius的节点\n",
    "    neighbors = neighbors_node_underneath_radius(graph, i, integer_radius)\n",
    "    norm_comm_matrix = normalized_comm_network_matrix(graph)  # 计算标准化通信概率矩阵\n",
    "    for y in neighbors:\n",
    "        if y != i:\n",
    "            i_idx = node_to_idx[i]\n",
    "            y_idx = node_to_idx[y]\n",
    "            influence_probability = norm_comm_matrix[i_idx][y_idx]\n",
    "\n",
    "            force = gravitational_force(graph, i, y)\n",
    "            cagm_value_floor += influence_probability * force\n",
    "    \n",
    "\n",
    "    # Add fractional influence for neighbors at ⌈R_i⌉\n",
    "    fractional_neighbors = [node for node, path_length in i_shortest_path.items() if path_length == integer_radius + 1]\n",
    "    for w in fractional_neighbors:\n",
    "        if w != i:\n",
    "            i_idx = node_to_idx[i]\n",
    "            w_idx = node_to_idx[w]\n",
    "            influence_probability = norm_comm_matrix[i_idx][w_idx]\n",
    "\n",
    "            force = gravitational_force(graph, i, w)\n",
    "            cagm_value_ceil += influence_probability * force\n",
    "    cagm_value_ceil = fractional_radius * cagm_value_ceil\n",
    "\n",
    "    return cagm_value_floor + cagm_value_ceil\n",
    "\n",
    "def cagm_int(graph: nx.Graph, i: 'Node', delta) -> float:\n",
    "    # delta为整数数时计算节点i的cagm值\n",
    "    \n",
    "    radius = radius_of_influence(graph, i, delta)\n",
    "    radius = int(np.floor(radius))\n",
    "    cagm_value = 0\n",
    "    node_to_idx = node_to_index(graph)\n",
    "    \n",
    "    i_shortest_path = source_node_shortest_path(graph, i)\n",
    "    # 获取距离小于integer_radius的节点\n",
    "    neighbors = neighbors_node_underneath_delta(graph, i, delta)\n",
    "    norm_comm_matrix = normalized_comm_network_matrix(graph)  # 计算标准化通信概率矩阵\n",
    "    \n",
    "    for y in neighbors:\n",
    "        if y != i:\n",
    "            i_idx = node_to_idx[i]\n",
    "            y_idx = node_to_idx[y]\n",
    "            influence_probability = norm_comm_matrix[i_idx][y_idx]\n",
    "\n",
    "            force = gravitational_force(graph, i, y)\n",
    "            cagm_value += influence_probability * force\n",
    "\n",
    "    return cagm_value"
   ]
  },
  {
   "cell_type": "code",
   "execution_count": 41,
   "metadata": {},
   "outputs": [],
   "source": [
    "def cagm_centrality(graph: nx.Graph, delta: float) ->dict:\n",
    "\n",
    "    cagm_values = {}  # 初始化每个节点的cagm值\n",
    "\n",
    "    for i in node_to_index(graph).keys():\n",
    "        i_radius = radius_of_influence(graph, i, delta)  # 节点i的影响半径\n",
    "        if i_radius % 1 == 0:\n",
    "            cagm_values[i] = cagm_int(graph, i, delta)\n",
    "        else:\n",
    "            cagm_values[i] = cagm_float(graph, i, delta)\n",
    "\n",
    "    return cagm_values"
   ]
  },
  {
   "cell_type": "code",
   "execution_count": 46,
   "metadata": {},
   "outputs": [
    {
     "name": "stdout",
     "output_type": "stream",
     "text": [
      "{0: 417.40020060211407, 1: 473.3670112800539, 2: 496.3081014637256, 3: 435.51461533968336, 4: 330.08854555918174, 5: 225.90994867038063, 6: 325.8886663416242, 7: 234.15561562959056, 8: 2286.2785011307164, 9: 12.718033876611099, 10: 1078.2834030723675, 11: 51.38427164614478, 12: 806.2558786774947, 13: 779.5910440567001, 14: 289.7797833774222, 15: 140.7809219603808, 16: 159.13723713513917, 17: 467.2411732497442, 18: 351.65529933822165, 19: 1259.649536163424, 20: 807.6676068413067, 21: 372.58048244317183, 22: 137.16271964115236, 23: 122.51614793229768, 24: 218.6063287796877, 25: 377.673835769687, 26: 354.79014972552886, 27: 232.44729002553612, 28: 389.94057045753846, 29: 409.0525640874607, 30: 44.280267159483856, 31: 98.4175838695267, 32: 150.15506378510918, 33: 220.06381917537476, 34: 467.4169066694775, 35: 313.71954617711003, 36: 440.22077697845725, 37: 672.7668549687291, 38: 886.9418237127164, 39: 515.776139725539, 40: 1220.2334133979653, 41: 777.726107505691, 42: 816.4479390968413, 43: 631.0479563933085, 44: 304.86372533561257, 45: 36.89676746443347, 46: 10.234266650399743, 47: 841.694292254035, 48: 727.3641245044628, 49: 112.14310457116764, 50: 662.1664937541262, 51: 661.2284501110137, 52: 498.0877687243126, 53: 302.70157095530567, 54: 489.4164287635142, 55: 538.3581822490618, 56: 119.09584324920685, 57: 621.7387845065228, 58: 1468.4185378481052, 59: 501.08697660526354, 60: 2.5658269219011136, 61: 1491.3295739255973, 62: 1004.9403364960087, 63: 539.2025276717828, 64: 214.29236582751108, 65: 236.83335406522383, 66: 463.17116682273945, 67: 1680.6828218857386, 68: 269.98772746792923, 69: 135.99582985543645, 70: 653.7034380924085, 71: 42.090751253017075, 72: 244.64552668929207, 73: 1343.739915220459, 74: 547.822546262262, 75: 158.83477102942703, 76: 464.80812885089824, 77: 156.01879615884374, 78: 403.5648187660868, 79: 232.07678511782333, 80: 535.8511526288639, 81: 645.8701502778688, 82: 13.95786783043542, 83: 123.73045285440269, 84: 116.76614824357964, 85: 834.6565816179805, 86: 544.544971060855, 87: 47.07089217250118, 88: 340.40873136870204, 89: 84.84153636087055, 90: 3.3121118241549032, 91: 248.285762406547, 92: 434.6968555656712, 93: 242.75369470750778, 94: 1523.3652600694043, 95: 45.155811181166065, 96: 203.73089226864892, 97: 1308.8494520286142, 98: 25.77643419549146, 99: 376.4770502208955, 100: 344.9254354959008, 101: 444.695719720283, 102: 409.6324647039143, 103: 498.65829647672444, 104: 1487.3757221206442, 105: 897.4932228087957, 106: 295.99282177467035, 107: 202.07543713296735, 108: 616.7157846902305, 109: 262.723336666724, 110: 748.5052749587696, 111: 432.4885965438957, 112: 363.26925828071904, 113: 289.62977004677293, 114: 130.16993732713712, 115: 408.08168135888764, 116: 207.1031282856327, 117: 283.1535848449713, 118: 906.5277678428394, 119: 223.6956222030214, 120: 189.22945965916773, 121: 376.5597193727626, 122: 148.0724919104788, 123: 483.433464836397, 124: 497.28412212694013, 125: 199.1744890485518, 126: 314.746741421009, 127: 641.4837808928767, 128: 427.051330000394, 129: 250.57212722784325, 130: 1351.8747734658323, 131: 756.3703000588735, 132: 154.90807830264754, 133: 1192.512980789321, 134: 292.8345622103103, 135: 1414.4686012403442, 136: 1207.697675918163, 137: 149.4799521859083, 138: 1147.3144391122783, 139: 102.74955652222087, 140: 276.5463699404453, 141: 979.8780769035127, 142: 154.40188209184322, 143: 998.628923817081, 144: 316.5811497199228, 145: 1286.2201244807825, 146: 66.80716798121912, 147: 2284.2353005035484, 148: 315.9702770462369, 149: 295.8658424792171, 150: 90.0017635340242, 151: 484.17749220235794, 152: 50.406873744758045, 153: 556.4818983839318, 154: 355.93639532069585, 155: 699.7186207202274, 156: 453.6176967709638, 157: 116.08120508941171, 158: 295.9365690216839, 159: 141.4300910213059, 160: 516.512554332044, 161: 568.3781226510691, 162: 620.7006630322801, 163: 572.2273450402695, 164: 520.340573521899, 165: 156.51265588786987, 166: 153.60527122915818, 167: 219.89374327173414, 168: 362.5339759654746, 169: 279.2281039071239, 170: 1462.7542597559273, 171: 328.86632606301066, 172: 242.34234617011197, 173: 147.52615391153444, 174: 655.5938279567235, 175: 596.8631324057758, 176: 7.777483381582893, 177: 568.8427792926077, 178: 204.60345673286463, 179: 317.9742782530005, 180: 703.6520229547374, 181: 59.73801250151725, 182: 11.52333626760333, 183: 684.9928274274306, 184: 631.0414152401374, 185: 307.7687243464358, 186: 103.73245516949478, 187: 55.446254180527745, 188: 966.2531154156802, 189: 1523.0881280136869, 190: 223.07323339304332, 191: 350.9657651759683, 192: 264.2300788079544, 193: 661.7631122622075, 194: 574.1885562724028, 195: 620.6644894236783, 196: 557.010596168748, 197: 291.2504393248377, 198: 812.6691324839159, 199: 478.7337610369169}\n"
     ]
    }
   ],
   "source": [
    "cagm = cagm_centrality(G, 0.8)\n",
    "print(cagm)"
   ]
  },
  {
   "cell_type": "code",
   "execution_count": 39,
   "metadata": {},
   "outputs": [],
   "source": [
    "def evaluate(graph: nx.Graph):\n",
    "    degree_centrality = nx.degree_centrality(graph)\n",
    "    betweenness_centrality = nx.betweenness_centrality(graph)\n",
    "    pagerank_centrality = nx.pagerank(graph)\n",
    "\n",
    "    eval_df = pd.DataFrame({\"Degree Centrality\" :degree_centrality, \"Betweenness Centrality\": betweenness_centrality, \"PageRank Centrality\": pagerank_centrality})\n",
    "\n",
    "    return eval_df\n",
    "\n",
    "\n",
    "node_influence = evaluate(graph)"
   ]
  }
 ],
 "metadata": {
  "kernelspec": {
   "display_name": "Python 3 (ipykernel)",
   "language": "python",
   "name": "python3"
  },
  "language_info": {
   "codemirror_mode": {
    "name": "ipython",
    "version": 3
   },
   "file_extension": ".py",
   "mimetype": "text/x-python",
   "name": "python",
   "nbconvert_exporter": "python",
   "pygments_lexer": "ipython3",
   "version": "3.11.7"
  }
 },
 "nbformat": 4,
 "nbformat_minor": 4
}
