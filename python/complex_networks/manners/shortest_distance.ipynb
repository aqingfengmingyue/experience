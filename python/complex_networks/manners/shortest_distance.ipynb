{
 "cells": [
  {
   "cell_type": "code",
   "execution_count": null,
   "id": "087bb8ef-7350-4a61-9740-0e63d0781835",
   "metadata": {},
   "outputs": [],
   "source": [
    "import heapq\n",
    "\n",
    "\n",
    "def dijkstra(adj_matrix, source):\n",
    "\n",
    "    num_nodes = adj_matrix.shape[0]  # 获取节点总数\n",
    "    distances = {i: float('inf') for i in range(num_nodes)}  # 初始化所有节点的距离为无穷大\n",
    "    distances[source] = 0  # 源节点到自己的距离为0\n",
    "    priority_queue = [(0, source)]  # 优先队列存储 (当前路径长度, 节点)\n",
    "\n",
    "    while priority_queue:\n",
    "        current_dist, current_node = heapq.heappop(priority_queue)\n",
    "\n",
    "        # 遍历当前节点的所有邻居\n",
    "        for neighbor in range(num_nodes):\n",
    "            if adj_matrix[current_node][neighbor] > 0:  # 判断是否有边\n",
    "                edge_weight = adj_matrix[current_node][neighbor]\n",
    "                new_dist = current_dist + edge_weight  # 计算新的路径长度\n",
    "\n",
    "                # 如果找到更短的路径，更新距离\n",
    "                if new_dist < distances[neighbor]:\n",
    "                    distances[neighbor] = new_dist\n",
    "                    heapq.heappush(priority_queue, (new_dist, neighbor))\n",
    "\n",
    "    # 移除没有路径的节点\n",
    "    kes_to_remove = []\n",
    "    for key, value in distances.items():\n",
    "        if value == float('inf'):\n",
    "            kes_to_remove.append(key)\n",
    "    for key in kes_to_remove:\n",
    "        del distances[key]\n",
    "\n",
    "    return distances\n",
    "\n",
    "\n",
    "def all_pairs_shortest_path_length(adj_matrix):\n",
    "    all_shortest_paths = {}\n",
    "    num_nodes = adj_matrix.shape[0]  # 获取节点总数\n",
    "    # 对每个节点计算其到所有其他节点的最短路径\n",
    "    for node in range(num_nodes):  # 获取节点总数:\n",
    "        all_shortest_paths[node] = sum(dijkstra(adj_matrix, source=node).values())\n",
    "\n",
    "    return all_shortest_paths\n",
    "\n"
   ]
  }
 ],
 "metadata": {
  "kernelspec": {
   "display_name": "Python 3 (ipykernel)",
   "language": "python",
   "name": "python3"
  },
  "language_info": {
   "codemirror_mode": {
    "name": "ipython",
    "version": 3
   },
   "file_extension": ".py",
   "mimetype": "text/x-python",
   "name": "python",
   "nbconvert_exporter": "python",
   "pygments_lexer": "ipython3",
   "version": "3.11.7"
  }
 },
 "nbformat": 4,
 "nbformat_minor": 5
}
