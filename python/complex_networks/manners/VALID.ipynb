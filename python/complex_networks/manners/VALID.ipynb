{
 "cells": [
  {
   "cell_type": "code",
   "execution_count": null,
   "id": "17cd6a20-5543-4cc2-8f77-9770582f12ee",
   "metadata": {},
   "outputs": [],
   "source": [
    "import networkx as nx\n",
    "\n",
    "\n",
    "def valid_degree(G):\n",
    "    node_degree = dict(G.degree())\n",
    "\n",
    "    # 获取具有最大度值的节点\n",
    "    max_node = max(node_degree, key=node_degree.get)\n",
    "\n",
    "    # 将度数最大的节点作为初始化出现节点\n",
    "    emerged_nodes = set(G.neighbors(max_node))\n",
    "    valid_degree = {node : 0 for node in G.nodes()}\n",
    "    valid_degree[max_node] = node_degree[max_node]\n",
    "\n",
    "    \n",
    "    transacted_nodes = {max_node}\n",
    "    untransacted_nodes = set(G.nodes()) - transacted_nodes\n",
    "\n",
    "    while(untransacted_nodes):\n",
    "        current_valid = {}\n",
    "        for node in untransacted_nodes:\n",
    "                \n",
    "            # 计算当前节点的有效性\n",
    "            current_valid[node] = len(set(G.neighbors(node)) - emerged_nodes)\n",
    "            \n",
    "        # 获取未处理节点中具有最大有效值的节点\n",
    "        max_node = max(current_valid, key=current_valid.get) \n",
    "        valid_degree[max_node] = current_valid[max_node]\n",
    "        \n",
    "        # 将最大有效性节点的邻居节点更新到已出现的节点里\n",
    "        emerged_nodes.update(set(G.neighbors(max_node)))\n",
    "        \n",
    "        # 更新已经处理过的和未处理过的节点\n",
    "        transacted_nodes.add(max_node)\n",
    "        untransacted_nodes.remove(max_node)\n",
    "        \n",
    "        # 当网络中所有节点都已经出现过则令之后节点的有效度值全为0\n",
    "        if len(emerged_nodes) == len(G.nodes()):\n",
    "            for node in untransacted_nodes:\n",
    "                valid_degree[node] = 0\n",
    "            return valid_degree\n",
    "\n",
    "    return valid_degree\n",
    "    "
   ]
  }
 ],
 "metadata": {
  "kernelspec": {
   "display_name": "Python 3 (ipykernel)",
   "language": "python",
   "name": "python3"
  },
  "language_info": {
   "codemirror_mode": {
    "name": "ipython",
    "version": 3
   },
   "file_extension": ".py",
   "mimetype": "text/x-python",
   "name": "python",
   "nbconvert_exporter": "python",
   "pygments_lexer": "ipython3",
   "version": "3.11.7"
  }
 },
 "nbformat": 4,
 "nbformat_minor": 5
}
